{
 "cells": [
  {
   "cell_type": "markdown",
   "metadata": {},
   "source": [
    "# Credit Performance Decision Support System\n",
    "Authod: Ya Liu"
   ]
  },
  {
   "cell_type": "code",
   "execution_count": 1,
   "metadata": {},
   "outputs": [],
   "source": [
    "import pandas\n",
    "import numpy as np\n",
    "# Some sklearn tools for preprocessing and building a pipeline. \n",
    "# ColumnTransformer was introduced in 0.20 so make sure you have this version\n",
    "from sklearn.pipeline import Pipeline\n",
    "from sklearn.model_selection import train_test_split, GridSearchCV\n",
    "from sklearn.metrics import accuracy_score, classification_report\n",
    "\n",
    "# Our algorithms, by from the easiest to the hardest to intepret.\n",
    "from sklearn.linear_model import LogisticRegression\n",
    "from sklearn.tree import DecisionTreeClassifier\n",
    "from sklearn.ensemble import RandomForestClassifier\n",
    "from matplotlib import pyplot"
   ]
  },
  {
   "cell_type": "code",
   "execution_count": 2,
   "metadata": {},
   "outputs": [
    {
     "data": {
      "text/plain": [
       "Bad     5136\n",
       "Good    4735\n",
       "Name: RiskPerformance, dtype: int64"
      ]
     },
     "execution_count": 2,
     "metadata": {},
     "output_type": "execute_result"
    }
   ],
   "source": [
    "df = pandas.read_csv(\"heloc_dataset_v1.csv\")\n",
    "df = df.drop(df.loc[df.loc[:, df.columns != 'RiskPerformance'].apply(lambda row: all(value in [-7,-8,-9] for value in row), axis=1)].index)\n",
    "df[\"RiskPerformance\"].value_counts()"
   ]
  },
  {
   "cell_type": "code",
   "execution_count": 3,
   "metadata": {},
   "outputs": [
    {
     "name": "stdout",
     "output_type": "stream",
     "text": [
      "7    4223\n",
      "6    3127\n",
      "4    1612\n",
      "0     336\n",
      "5     236\n",
      "3     224\n",
      "1      54\n",
      "2      53\n",
      "9       6\n",
      "Name: MaxDelq2PublicRecLast12M, dtype: int64\n"
     ]
    }
   ],
   "source": [
    "print(df[\"MaxDelq2PublicRecLast12M\"].value_counts())\n",
    "df = df.drop(df[df.MaxDelq2PublicRecLast12M == 9].index)"
   ]
  },
  {
   "cell_type": "code",
   "execution_count": 4,
   "metadata": {},
   "outputs": [
    {
     "data": {
      "text/plain": [
       "8    4526\n",
       "6    2868\n",
       "5     968\n",
       "2     739\n",
       "4     321\n",
       "3     311\n",
       "7     132\n",
       "Name: MaxDelqEver, dtype: int64"
      ]
     },
     "execution_count": 4,
     "metadata": {},
     "output_type": "execute_result"
    }
   ],
   "source": [
    "df[\"MaxDelqEver\"].value_counts()"
   ]
  },
  {
   "cell_type": "code",
   "execution_count": 5,
   "metadata": {},
   "outputs": [
    {
     "name": "stdout",
     "output_type": "stream",
     "text": [
      "-9       6\n",
      " 33      1\n",
      " 34      1\n",
      " 36      2\n",
      " 37      1\n",
      "      ... \n",
      " 90    100\n",
      " 91    103\n",
      " 92     34\n",
      " 93     15\n",
      " 94      1\n",
      "Name: ExternalRiskEstimate, Length: 61, dtype: int64\n",
      "33      1\n",
      "34      1\n",
      "36      2\n",
      "37      1\n",
      "39      1\n",
      "40      2\n",
      "41      1\n",
      "42      2\n",
      "43      5\n",
      "44      4\n",
      "45      3\n",
      "46      1\n",
      "47      6\n",
      "48      4\n",
      "49      5\n",
      "50     15\n",
      "51     10\n",
      "52     13\n",
      "53      3\n",
      "54     97\n",
      "55    129\n",
      "56    187\n",
      "57    188\n",
      "58    175\n",
      "59    225\n",
      "60    232\n",
      "61    281\n",
      "62    246\n",
      "63    338\n",
      "64    295\n",
      "65    386\n",
      "66    376\n",
      "67    276\n",
      "68    372\n",
      "69    316\n",
      "70    350\n",
      "71    275\n",
      "72    373\n",
      "73    369\n",
      "74    276\n",
      "75    331\n",
      "76    260\n",
      "77    288\n",
      "78    247\n",
      "79    286\n",
      "80    301\n",
      "81    256\n",
      "82    263\n",
      "83    227\n",
      "84    282\n",
      "85    223\n",
      "86    254\n",
      "87    190\n",
      "88    201\n",
      "89    161\n",
      "90    100\n",
      "91    103\n",
      "92     34\n",
      "93     15\n",
      "94      1\n",
      "Name: ExternalRiskEstimate, dtype: int64\n"
     ]
    }
   ],
   "source": [
    "print(df[\"ExternalRiskEstimate\"].value_counts().sort_index())\n",
    "df[\"ExternalRiskEstimate\"].median()\n",
    "df[\"ExternalRiskEstimate\"].replace([-9],df[\"ExternalRiskEstimate\"].median(), inplace=True)\n",
    "print(df[\"ExternalRiskEstimate\"].value_counts().sort_index())"
   ]
  },
  {
   "cell_type": "code",
   "execution_count": 6,
   "metadata": {},
   "outputs": [
    {
     "name": "stdout",
     "output_type": "stream",
     "text": [
      "-8      239\n",
      " 2        1\n",
      " 4        1\n",
      " 5        1\n",
      " 6        3\n",
      "       ... \n",
      " 598      1\n",
      " 603      1\n",
      " 604      1\n",
      " 789      1\n",
      " 803      1\n",
      "Name: MSinceOldestTradeOpen, Length: 525, dtype: int64\n",
      "183.0\n"
     ]
    },
    {
     "data": {
      "text/plain": [
       "2      1\n",
       "4      1\n",
       "5      1\n",
       "6      3\n",
       "7      3\n",
       "      ..\n",
       "598    1\n",
       "603    1\n",
       "604    1\n",
       "789    1\n",
       "803    1\n",
       "Name: MSinceOldestTradeOpen, Length: 524, dtype: int64"
      ]
     },
     "execution_count": 6,
     "metadata": {},
     "output_type": "execute_result"
    }
   ],
   "source": [
    "print(df[\"MSinceOldestTradeOpen\"].value_counts().sort_index())\n",
    "print(df[\"MSinceOldestTradeOpen\"].median())\n",
    "df[\"MSinceOldestTradeOpen\"].replace([-8],df[\"MSinceOldestTradeOpen\"].median(), inplace=True)\n",
    "df[\"MSinceOldestTradeOpen\"].value_counts().sort_index()"
   ]
  },
  {
   "cell_type": "code",
   "execution_count": 7,
   "metadata": {},
   "outputs": [
    {
     "name": "stdout",
     "output_type": "stream",
     "text": [
      "0       105\n",
      "1       732\n",
      "2      1161\n",
      "3      1015\n",
      "4       885\n",
      "       ... \n",
      "178       1\n",
      "184       1\n",
      "207       1\n",
      "227       1\n",
      "383       1\n",
      "Name: MSinceMostRecentTradeOpen, Length: 109, dtype: int64\n"
     ]
    }
   ],
   "source": [
    "print(df[\"MSinceMostRecentTradeOpen\"].value_counts().sort_index())\n",
    "df=df.drop(\"MSinceMostRecentTradeOpen\", 1)"
   ]
  },
  {
   "cell_type": "code",
   "execution_count": 8,
   "metadata": {},
   "outputs": [
    {
     "name": "stdout",
     "output_type": "stream",
     "text": [
      "4       4\n",
      "5       6\n",
      "6       4\n",
      "7       9\n",
      "8      12\n",
      "       ..\n",
      "263     1\n",
      "273     1\n",
      "275     1\n",
      "322     1\n",
      "383     1\n",
      "Name: AverageMInFile, Length: 236, dtype: int64\n"
     ]
    }
   ],
   "source": [
    "print(df[\"AverageMInFile\"].value_counts().sort_index())"
   ]
  },
  {
   "cell_type": "code",
   "execution_count": 9,
   "metadata": {},
   "outputs": [
    {
     "name": "stdout",
     "output_type": "stream",
     "text": [
      "0       4\n",
      "1      47\n",
      "2      90\n",
      "3     101\n",
      "4     138\n",
      "     ... \n",
      "70      2\n",
      "74      2\n",
      "75      1\n",
      "78      1\n",
      "79      1\n",
      "Name: NumSatisfactoryTrades, Length: 73, dtype: int64\n"
     ]
    }
   ],
   "source": [
    "print(df[\"NumSatisfactoryTrades\"].value_counts().sort_index())"
   ]
  },
  {
   "cell_type": "code",
   "execution_count": 10,
   "metadata": {},
   "outputs": [
    {
     "name": "stdout",
     "output_type": "stream",
     "text": [
      "0     6797\n",
      "1     1801\n",
      "2      692\n",
      "3      246\n",
      "4      148\n",
      "5       73\n",
      "6       37\n",
      "7       30\n",
      "8       11\n",
      "9        8\n",
      "10       8\n",
      "11       4\n",
      "12       3\n",
      "13       2\n",
      "14       2\n",
      "16       1\n",
      "17       1\n",
      "19       1\n",
      "Name: NumTrades60Ever2DerogPubRec, dtype: int64\n"
     ]
    }
   ],
   "source": [
    "print(df[\"NumTrades60Ever2DerogPubRec\"].value_counts().sort_index())\n",
    "df=df.drop(\"NumTrades60Ever2DerogPubRec\", 1)"
   ]
  },
  {
   "cell_type": "code",
   "execution_count": 11,
   "metadata": {},
   "outputs": [
    {
     "name": "stdout",
     "output_type": "stream",
     "text": [
      "0     7634\n",
      "1     1435\n",
      "2      488\n",
      "3      129\n",
      "4       83\n",
      "5       38\n",
      "6       18\n",
      "7       16\n",
      "8        3\n",
      "9        8\n",
      "10       5\n",
      "11       2\n",
      "12       2\n",
      "14       1\n",
      "16       2\n",
      "19       1\n",
      "Name: NumTrades90Ever2DerogPubRec, dtype: int64\n"
     ]
    }
   ],
   "source": [
    "print(df[\"NumTrades90Ever2DerogPubRec\"].value_counts().sort_index())\n",
    "df=df.drop(\"NumTrades90Ever2DerogPubRec\", 1)"
   ]
  },
  {
   "cell_type": "code",
   "execution_count": 12,
   "metadata": {},
   "outputs": [
    {
     "name": "stdout",
     "output_type": "stream",
     "text": [
      "0         6\n",
      "11        1\n",
      "20        4\n",
      "22        1\n",
      "25        6\n",
      "       ... \n",
      "96      414\n",
      "97      389\n",
      "98      173\n",
      "99        6\n",
      "100    4601\n",
      "Name: PercentTradesNeverDelq, Length: 71, dtype: int64\n"
     ]
    }
   ],
   "source": [
    "print(df[\"PercentTradesNeverDelq\"].value_counts().sort_index())"
   ]
  },
  {
   "cell_type": "code",
   "execution_count": 13,
   "metadata": {},
   "outputs": [
    {
     "name": "stdout",
     "output_type": "stream",
     "text": [
      "-8      176\n",
      "-7     4658\n",
      " 0      102\n",
      " 1      307\n",
      " 2      294\n",
      "       ... \n",
      " 79      19\n",
      " 80      15\n",
      " 81      14\n",
      " 82       1\n",
      " 83       1\n",
      "Name: MSinceMostRecentDelq, Length: 86, dtype: int64\n",
      "0.8    21.0\n",
      "0.9    40.0\n",
      "Name: MSinceMostRecentDelq, dtype: float64\n"
     ]
    }
   ],
   "source": [
    "print(df[\"MSinceMostRecentDelq\"].value_counts().sort_index())\n",
    "print(df[\"MSinceMostRecentDelq\"].quantile([.8, .9]))\n",
    "df[\"MSinceMostRecentDelq\"].replace([-8],-51, inplace=True)\n",
    "df[\"MSinceMostRecentDelq\"].replace([-7],-80, inplace=True)\n",
    "df[\"MSinceMostRecentDelq\"].value_counts().sort_index()\n",
    "df=df.drop(\"MSinceMostRecentDelq\", 1)"
   ]
  },
  {
   "cell_type": "code",
   "execution_count": 14,
   "metadata": {},
   "outputs": [
    {
     "name": "stdout",
     "output_type": "stream",
     "text": [
      "0     336\n",
      "1      54\n",
      "2      53\n",
      "3     224\n",
      "4    1612\n",
      "5     236\n",
      "6    3127\n",
      "7    4223\n",
      "Name: MaxDelq2PublicRecLast12M, dtype: int64\n"
     ]
    }
   ],
   "source": [
    "print(df[\"MaxDelq2PublicRecLast12M\"].value_counts().sort_index())"
   ]
  },
  {
   "cell_type": "code",
   "execution_count": 15,
   "metadata": {},
   "outputs": [
    {
     "name": "stdout",
     "output_type": "stream",
     "text": [
      "0      133\n",
      "1       44\n",
      "2       75\n",
      "3      113\n",
      "4      119\n",
      "      ... \n",
      "85       1\n",
      "86       1\n",
      "87       1\n",
      "100      1\n",
      "104      1\n",
      "Name: NumTotalTrades, Length: 87, dtype: int64\n"
     ]
    }
   ],
   "source": [
    "print(df[\"NumTotalTrades\"].value_counts().sort_index())"
   ]
  },
  {
   "cell_type": "code",
   "execution_count": 16,
   "metadata": {},
   "outputs": [
    {
     "name": "stdout",
     "output_type": "stream",
     "text": [
      "0     2503\n",
      "1     2528\n",
      "2     1969\n",
      "3     1302\n",
      "4      743\n",
      "5      365\n",
      "6      229\n",
      "7      108\n",
      "8       56\n",
      "9       25\n",
      "10      18\n",
      "11       8\n",
      "12       4\n",
      "13       2\n",
      "14       2\n",
      "16       1\n",
      "17       1\n",
      "19       1\n",
      "Name: NumTradesOpeninLast12M, dtype: int64\n"
     ]
    }
   ],
   "source": [
    "print(df[\"NumTradesOpeninLast12M\"].value_counts().sort_index())"
   ]
  },
  {
   "cell_type": "code",
   "execution_count": 17,
   "metadata": {},
   "outputs": [
    {
     "name": "stdout",
     "output_type": "stream",
     "text": [
      "0      193\n",
      "2        1\n",
      "3       12\n",
      "4       29\n",
      "5       31\n",
      "      ... \n",
      "91       3\n",
      "92       2\n",
      "93       1\n",
      "94       1\n",
      "100     74\n",
      "Name: PercentInstallTrades, Length: 95, dtype: int64\n"
     ]
    }
   ],
   "source": [
    "print(df[\"PercentInstallTrades\"].value_counts().sort_index())"
   ]
  },
  {
   "cell_type": "code",
   "execution_count": 18,
   "metadata": {},
   "outputs": [
    {
     "name": "stdout",
     "output_type": "stream",
     "text": [
      "-8      476\n",
      "-7     1853\n",
      " 0     4578\n",
      " 1      614\n",
      " 2      378\n",
      " 3      309\n",
      " 4      268\n",
      " 5      191\n",
      " 6      150\n",
      " 7      139\n",
      " 8      112\n",
      " 9       99\n",
      " 10      93\n",
      " 11      71\n",
      " 12      61\n",
      " 13      55\n",
      " 14      65\n",
      " 15      45\n",
      " 16      49\n",
      " 17      42\n",
      " 18      34\n",
      " 19      45\n",
      " 20      31\n",
      " 21      32\n",
      " 22      35\n",
      " 23      32\n",
      " 24       8\n",
      "Name: MSinceMostRecentInqexcl7days, dtype: int64\n",
      "0.8    4.0\n",
      "0.9    9.0\n",
      "Name: MSinceMostRecentInqexcl7days, dtype: float64\n"
     ]
    }
   ],
   "source": [
    "print(df[\"MSinceMostRecentInqexcl7days\"].value_counts().sort_index())\n",
    "print(df.loc[df[\"MSinceMostRecentInqexcl7days\"] >=0,\"MSinceMostRecentInqexcl7days\"].quantile([.8, .9]))\n",
    "df[\"MSinceMostRecentInqexcl7days\"].replace([-8],23, inplace=True)"
   ]
  },
  {
   "cell_type": "code",
   "execution_count": 19,
   "metadata": {},
   "outputs": [
    {
     "name": "stdout",
     "output_type": "stream",
     "text": [
      "0     3920\n",
      "1     2545\n",
      "2     1509\n",
      "3      761\n",
      "4      489\n",
      "5      242\n",
      "6      140\n",
      "7       81\n",
      "8       61\n",
      "9       32\n",
      "10      26\n",
      "11      19\n",
      "12      10\n",
      "13       7\n",
      "14       4\n",
      "15       1\n",
      "16       4\n",
      "17       3\n",
      "18       1\n",
      "19       3\n",
      "20       1\n",
      "21       1\n",
      "24       2\n",
      "29       1\n",
      "46       1\n",
      "66       1\n",
      "Name: NumInqLast6M, dtype: int64\n"
     ]
    }
   ],
   "source": [
    "print(df[\"NumInqLast6M\"].value_counts().sort_index())"
   ]
  },
  {
   "cell_type": "code",
   "execution_count": 20,
   "metadata": {},
   "outputs": [
    {
     "name": "stdout",
     "output_type": "stream",
     "text": [
      "0     4074\n",
      "1     2529\n",
      "2     1449\n",
      "3      759\n",
      "4      453\n",
      "5      232\n",
      "6      132\n",
      "7       71\n",
      "8       59\n",
      "9       28\n",
      "10      24\n",
      "11      17\n",
      "12      10\n",
      "13       6\n",
      "14       4\n",
      "15       2\n",
      "16       4\n",
      "17       1\n",
      "18       2\n",
      "19       2\n",
      "20       1\n",
      "21       1\n",
      "24       2\n",
      "29       1\n",
      "46       1\n",
      "66       1\n",
      "Name: NumInqLast6Mexcl7days, dtype: int64\n"
     ]
    }
   ],
   "source": [
    "print(df[\"NumInqLast6Mexcl7days\"].value_counts().sort_index())\n",
    "df = df.drop(\"NumInqLast6Mexcl7days\", 1)"
   ]
  },
  {
   "cell_type": "code",
   "execution_count": 21,
   "metadata": {},
   "outputs": [
    {
     "name": "stdout",
     "output_type": "stream",
     "text": [
      "-8      182\n",
      " 0      607\n",
      " 1      303\n",
      " 2      274\n",
      " 3      259\n",
      "       ... \n",
      " 131      1\n",
      " 135      1\n",
      " 154      1\n",
      " 165      1\n",
      " 232      1\n",
      "Name: NetFractionRevolvingBurden, Length: 127, dtype: int64\n",
      "0.8    62.0\n",
      "0.9    78.0\n",
      "Name: NetFractionRevolvingBurden, dtype: float64\n"
     ]
    }
   ],
   "source": [
    "print(df[\"NetFractionRevolvingBurden\"].value_counts().sort_index())\n",
    "print(df[\"NetFractionRevolvingBurden\"].quantile([.8, .9]))\n",
    "df[\"NetFractionRevolvingBurden\"].replace([-8],62, inplace=True)"
   ]
  },
  {
   "cell_type": "code",
   "execution_count": 22,
   "metadata": {},
   "outputs": [
    {
     "name": "stdout",
     "output_type": "stream",
     "text": [
      "-8      3414\n",
      " 0        10\n",
      " 1         4\n",
      " 2        15\n",
      " 3        21\n",
      "        ... \n",
      " 153       1\n",
      " 165       1\n",
      " 190       1\n",
      " 196       1\n",
      " 471       1\n",
      "Name: NetFractionInstallBurden, Length: 138, dtype: int64\n",
      "0.1    32.0\n",
      "0.5    74.0\n",
      "Name: NetFractionInstallBurden, dtype: float64\n"
     ]
    }
   ],
   "source": [
    "print(df[\"NetFractionInstallBurden\"].value_counts().sort_index())\n",
    "print(df.loc[df[\"NetFractionInstallBurden\"] >=0,\"NetFractionInstallBurden\"].quantile([.1, .5]))\n",
    "df[\"NetFractionInstallBurden\"].replace([-8],32, inplace=True)"
   ]
  },
  {
   "cell_type": "code",
   "execution_count": 23,
   "metadata": {},
   "outputs": [
    {
     "name": "stdout",
     "output_type": "stream",
     "text": [
      "-8      152\n",
      " 0      303\n",
      " 1     1330\n",
      " 2     1708\n",
      " 3     1608\n",
      " 4     1361\n",
      " 5     1010\n",
      " 6      744\n",
      " 7      507\n",
      " 8      350\n",
      " 9      242\n",
      " 10     174\n",
      " 11     114\n",
      " 12      75\n",
      " 13      52\n",
      " 14      40\n",
      " 15      27\n",
      " 16      23\n",
      " 17      16\n",
      " 18       7\n",
      " 19       4\n",
      " 20       4\n",
      " 21       5\n",
      " 23       1\n",
      " 24       3\n",
      " 25       1\n",
      " 26       1\n",
      " 27       1\n",
      " 29       1\n",
      " 32       1\n",
      "Name: NumRevolvingTradesWBalance, dtype: int64\n"
     ]
    }
   ],
   "source": [
    "print(df[\"NumRevolvingTradesWBalance\"].value_counts().sort_index())\n",
    "df[\"NumRevolvingTradesWBalance\"].replace([-8],20, inplace=True)"
   ]
  },
  {
   "cell_type": "code",
   "execution_count": 24,
   "metadata": {},
   "outputs": [
    {
     "name": "stdout",
     "output_type": "stream",
     "text": [
      "-8      856\n",
      " 1     2647\n",
      " 2     2863\n",
      " 3     1809\n",
      " 4      922\n",
      " 5      352\n",
      " 6      186\n",
      " 7       86\n",
      " 8       49\n",
      " 9       36\n",
      " 10      18\n",
      " 11      15\n",
      " 12      10\n",
      " 13       5\n",
      " 14       6\n",
      " 15       1\n",
      " 16       1\n",
      " 19       2\n",
      " 23       1\n",
      "Name: NumInstallTradesWBalance, dtype: int64\n"
     ]
    }
   ],
   "source": [
    "print(df[\"NumInstallTradesWBalance\"].value_counts().sort_index())"
   ]
  },
  {
   "cell_type": "code",
   "execution_count": 25,
   "metadata": {},
   "outputs": [
    {
     "name": "stdout",
     "output_type": "stream",
     "text": [
      "-8      578\n",
      " 0     4307\n",
      " 1     2514\n",
      " 2     1222\n",
      " 3      620\n",
      " 4      280\n",
      " 5      154\n",
      " 6       81\n",
      " 7       38\n",
      " 8       30\n",
      " 9       11\n",
      " 10      10\n",
      " 11      10\n",
      " 12       4\n",
      " 13       3\n",
      " 15       1\n",
      " 16       1\n",
      " 18       1\n",
      "Name: NumBank2NatlTradesWHighUtilization, dtype: int64\n",
      "1.0923872079250565\n"
     ]
    }
   ],
   "source": [
    "print(df[\"NumBank2NatlTradesWHighUtilization\"].value_counts().sort_index())\n",
    "print(df.loc[df[\"NumBank2NatlTradesWHighUtilization\"] >=0,\"NumBank2NatlTradesWHighUtilization\"].mean())\n",
    "df[\"NumBank2NatlTradesWHighUtilization\"].replace([-8],2, inplace=True)"
   ]
  },
  {
   "cell_type": "code",
   "execution_count": 26,
   "metadata": {},
   "outputs": [
    {
     "name": "stdout",
     "output_type": "stream",
     "text": [
      "-8        14\n",
      " 0        44\n",
      " 4         1\n",
      " 6         1\n",
      " 7         1\n",
      "        ... \n",
      " 93       37\n",
      " 94       28\n",
      " 95       13\n",
      " 96        3\n",
      " 100    1277\n",
      "Name: PercentTradesWBalance, Length: 94, dtype: int64\n"
     ]
    }
   ],
   "source": [
    "print(df[\"PercentTradesWBalance\"].value_counts().sort_index())\n",
    "df[\"PercentTradesWBalance\"].replace([-8],90, inplace=True)"
   ]
  },
  {
   "cell_type": "markdown",
   "metadata": {},
   "source": [
    "### split X and Y"
   ]
  },
  {
   "cell_type": "code",
   "execution_count": 27,
   "metadata": {},
   "outputs": [],
   "source": [
    "y = df[\"RiskPerformance\"].map({\"Good\":0, \"Bad\":1})\n",
    "X = df.drop(\"RiskPerformance\", axis=1)"
   ]
  },
  {
   "cell_type": "code",
   "execution_count": 28,
   "metadata": {},
   "outputs": [
    {
     "data": {
      "text/plain": [
       "ExternalRiskEstimate                  int64\n",
       "MSinceOldestTradeOpen                 int64\n",
       "AverageMInFile                        int64\n",
       "NumSatisfactoryTrades                 int64\n",
       "PercentTradesNeverDelq                int64\n",
       "MaxDelq2PublicRecLast12M              int64\n",
       "MaxDelqEver                           int64\n",
       "NumTotalTrades                        int64\n",
       "NumTradesOpeninLast12M                int64\n",
       "PercentInstallTrades                  int64\n",
       "MSinceMostRecentInqexcl7days          int64\n",
       "NumInqLast6M                          int64\n",
       "NetFractionRevolvingBurden            int64\n",
       "NetFractionInstallBurden              int64\n",
       "NumRevolvingTradesWBalance            int64\n",
       "NumInstallTradesWBalance              int64\n",
       "NumBank2NatlTradesWHighUtilization    int64\n",
       "PercentTradesWBalance                 int64\n",
       "dtype: object"
      ]
     },
     "execution_count": 28,
     "metadata": {},
     "output_type": "execute_result"
    }
   ],
   "source": [
    "X.dtypes"
   ]
  },
  {
   "cell_type": "markdown",
   "metadata": {},
   "source": [
    "## training"
   ]
  },
  {
   "cell_type": "code",
   "execution_count": 29,
   "metadata": {},
   "outputs": [],
   "source": [
    "lr_model = Pipeline([(\"model\", LogisticRegression(class_weight=\"balanced\", solver=\"liblinear\", random_state=42))])"
   ]
  },
  {
   "cell_type": "code",
   "execution_count": 30,
   "metadata": {},
   "outputs": [],
   "source": [
    "X_train, X_test, y_train, y_test = train_test_split(X, y, stratify=y, test_size=.3, random_state=42)"
   ]
  },
  {
   "cell_type": "code",
   "execution_count": 48,
   "metadata": {},
   "outputs": [],
   "source": [
    "#X_train.to_csv(\"X_train.csv\",index=False)\n",
    "#y_train.to_csv(\"y_train.csv\",index=False)\n",
    "#df.to_csv(\"df.csv\",index=False)"
   ]
  },
  {
   "cell_type": "code",
   "execution_count": 31,
   "metadata": {},
   "outputs": [
    {
     "data": {
      "text/plain": [
       "GridSearchCV(cv=5,\n",
       "             estimator=Pipeline(steps=[('model',\n",
       "                                        LogisticRegression(class_weight='balanced',\n",
       "                                                           random_state=42,\n",
       "                                                           solver='liblinear'))]),\n",
       "             n_jobs=-1, param_grid={'model__C': [1, 1.3, 1.5]},\n",
       "             scoring='accuracy')"
      ]
     },
     "execution_count": 31,
     "metadata": {},
     "output_type": "execute_result"
    }
   ],
   "source": [
    "gs = GridSearchCV(lr_model, {\"model__C\": [1, 1.3, 1.5]}, n_jobs=-1, cv=5, scoring=\"accuracy\")\n",
    "gs.fit(X_train, y_train)"
   ]
  },
  {
   "cell_type": "code",
   "execution_count": 32,
   "metadata": {},
   "outputs": [
    {
     "name": "stdout",
     "output_type": "stream",
     "text": [
      "{'model__C': 1.5}\n",
      "0.7371469949312093\n"
     ]
    }
   ],
   "source": [
    "print(gs.best_params_)\n",
    "print(gs.best_score_)"
   ]
  },
  {
   "cell_type": "code",
   "execution_count": 33,
   "metadata": {},
   "outputs": [
    {
     "data": {
      "text/plain": [
       "Pipeline(steps=[('model',\n",
       "                 LogisticRegression(C=1.5, class_weight='balanced',\n",
       "                                    random_state=42, solver='liblinear'))])"
      ]
     },
     "execution_count": 33,
     "metadata": {},
     "output_type": "execute_result"
    }
   ],
   "source": [
    "lr_model.set_params(**gs.best_params_)"
   ]
  },
  {
   "cell_type": "code",
   "execution_count": 34,
   "metadata": {},
   "outputs": [
    {
     "data": {
      "text/plain": [
       "{'memory': None,\n",
       " 'steps': [('model',\n",
       "   LogisticRegression(C=1.5, class_weight='balanced', random_state=42,\n",
       "                      solver='liblinear'))],\n",
       " 'verbose': False,\n",
       " 'model': LogisticRegression(C=1.5, class_weight='balanced', random_state=42,\n",
       "                    solver='liblinear'),\n",
       " 'model__C': 1.5,\n",
       " 'model__class_weight': 'balanced',\n",
       " 'model__dual': False,\n",
       " 'model__fit_intercept': True,\n",
       " 'model__intercept_scaling': 1,\n",
       " 'model__l1_ratio': None,\n",
       " 'model__max_iter': 100,\n",
       " 'model__multi_class': 'auto',\n",
       " 'model__n_jobs': None,\n",
       " 'model__penalty': 'l2',\n",
       " 'model__random_state': 42,\n",
       " 'model__solver': 'liblinear',\n",
       " 'model__tol': 0.0001,\n",
       " 'model__verbose': 0,\n",
       " 'model__warm_start': False}"
      ]
     },
     "execution_count": 34,
     "metadata": {},
     "output_type": "execute_result"
    }
   ],
   "source": [
    "lr_model.get_params(\"model\")"
   ]
  },
  {
   "cell_type": "code",
   "execution_count": 35,
   "metadata": {},
   "outputs": [
    {
     "data": {
      "text/plain": [
       "Pipeline(steps=[('model',\n",
       "                 LogisticRegression(C=1.5, class_weight='balanced',\n",
       "                                    random_state=42, solver='liblinear'))])"
      ]
     },
     "execution_count": 35,
     "metadata": {},
     "output_type": "execute_result"
    }
   ],
   "source": [
    "lr_model.fit(X_train, y_train)"
   ]
  },
  {
   "cell_type": "code",
   "execution_count": 36,
   "metadata": {},
   "outputs": [],
   "source": [
    "y_pred = lr_model.predict(X_test)"
   ]
  },
  {
   "cell_type": "code",
   "execution_count": 37,
   "metadata": {},
   "outputs": [
    {
     "data": {
      "text/plain": [
       "0.7361486486486486"
      ]
     },
     "execution_count": 37,
     "metadata": {},
     "output_type": "execute_result"
    }
   ],
   "source": [
    "accuracy_score(y_test, y_pred)"
   ]
  },
  {
   "cell_type": "code",
   "execution_count": 38,
   "metadata": {},
   "outputs": [
    {
     "name": "stdout",
     "output_type": "stream",
     "text": [
      "              precision    recall  f1-score   support\n",
      "\n",
      "           0       0.72      0.73      0.73      1420\n",
      "           1       0.75      0.74      0.75      1540\n",
      "\n",
      "    accuracy                           0.74      2960\n",
      "   macro avg       0.74      0.74      0.74      2960\n",
      "weighted avg       0.74      0.74      0.74      2960\n",
      "\n"
     ]
    }
   ],
   "source": [
    "print(classification_report(y_test, y_pred))"
   ]
  },
  {
   "cell_type": "code",
   "execution_count": 39,
   "metadata": {},
   "outputs": [
    {
     "name": "stderr",
     "output_type": "stream",
     "text": [
      "/opt/anaconda3/lib/python3.7/site-packages/sklearn/utils/deprecation.py:143: FutureWarning: The sklearn.metrics.scorer module is  deprecated in version 0.22 and will be removed in version 0.24. The corresponding classes / functions should instead be imported from sklearn.metrics. Anything that cannot be imported from sklearn.metrics is now part of the private API.\n",
      "  warnings.warn(message, FutureWarning)\n",
      "/opt/anaconda3/lib/python3.7/site-packages/sklearn/utils/deprecation.py:143: FutureWarning: The sklearn.feature_selection.base module is  deprecated in version 0.22 and will be removed in version 0.24. The corresponding classes / functions should instead be imported from sklearn.feature_selection. Anything that cannot be imported from sklearn.feature_selection is now part of the private API.\n",
      "  warnings.warn(message, FutureWarning)\n",
      "Using TensorFlow backend.\n"
     ]
    },
    {
     "data": {
      "text/html": [
       "\n",
       "    <style>\n",
       "    table.eli5-weights tr:hover {\n",
       "        filter: brightness(85%);\n",
       "    }\n",
       "</style>\n",
       "\n",
       "\n",
       "\n",
       "    \n",
       "\n",
       "    \n",
       "\n",
       "    \n",
       "\n",
       "    \n",
       "\n",
       "    \n",
       "\n",
       "    \n",
       "\n",
       "\n",
       "    \n",
       "\n",
       "    \n",
       "\n",
       "    \n",
       "\n",
       "    \n",
       "        \n",
       "\n",
       "    \n",
       "\n",
       "        \n",
       "            \n",
       "                \n",
       "                \n",
       "    \n",
       "        <p style=\"margin-bottom: 0.5em; margin-top: 0em\">\n",
       "            <b>\n",
       "    \n",
       "        y=1\n",
       "    \n",
       "</b>\n",
       "\n",
       "top features\n",
       "        </p>\n",
       "    \n",
       "    <table class=\"eli5-weights\"\n",
       "           style=\"border-collapse: collapse; border: none; margin-top: 0em; table-layout: auto; margin-bottom: 2em;\">\n",
       "        <thead>\n",
       "        <tr style=\"border: none;\">\n",
       "            \n",
       "                <th style=\"padding: 0 1em 0 0.5em; text-align: right; border: none;\" title=\"Feature weights. Note that weights do not account for feature value scales, so if feature values have different scales, features with highest weights might not be the most important.\">\n",
       "                    Weight<sup>?</sup>\n",
       "                </th>\n",
       "            \n",
       "            <th style=\"padding: 0 0.5em 0 0.5em; text-align: left; border: none;\">Feature</th>\n",
       "            \n",
       "        </tr>\n",
       "        </thead>\n",
       "        <tbody>\n",
       "        \n",
       "            <tr style=\"background-color: hsl(120, 100.00%, 80.00%); border: none;\">\n",
       "    <td style=\"padding: 0 1em 0 0.5em; text-align: right; border: none;\">\n",
       "        +5.414\n",
       "    </td>\n",
       "    <td style=\"padding: 0 0.5em 0 0.5em; text-align: left; border: none;\">\n",
       "        &lt;BIAS&gt;\n",
       "    </td>\n",
       "    \n",
       "</tr>\n",
       "        \n",
       "            <tr style=\"background-color: hsl(120, 100.00%, 98.57%); border: none;\">\n",
       "    <td style=\"padding: 0 1em 0 0.5em; text-align: right; border: none;\">\n",
       "        +0.125\n",
       "    </td>\n",
       "    <td style=\"padding: 0 0.5em 0 0.5em; text-align: left; border: none;\">\n",
       "        NumBank2NatlTradesWHighUtilization\n",
       "    </td>\n",
       "    \n",
       "</tr>\n",
       "        \n",
       "            <tr style=\"background-color: hsl(120, 100.00%, 99.05%); border: none;\">\n",
       "    <td style=\"padding: 0 1em 0 0.5em; text-align: right; border: none;\">\n",
       "        +0.069\n",
       "    </td>\n",
       "    <td style=\"padding: 0 0.5em 0 0.5em; text-align: left; border: none;\">\n",
       "        NumInqLast6M\n",
       "    </td>\n",
       "    \n",
       "</tr>\n",
       "        \n",
       "            <tr style=\"background-color: hsl(120, 100.00%, 99.40%); border: none;\">\n",
       "    <td style=\"padding: 0 1em 0 0.5em; text-align: right; border: none;\">\n",
       "        +0.036\n",
       "    </td>\n",
       "    <td style=\"padding: 0 0.5em 0 0.5em; text-align: left; border: none;\">\n",
       "        NumRevolvingTradesWBalance\n",
       "    </td>\n",
       "    \n",
       "</tr>\n",
       "        \n",
       "            <tr style=\"background-color: hsl(120, 100.00%, 99.65%); border: none;\">\n",
       "    <td style=\"padding: 0 1em 0 0.5em; text-align: right; border: none;\">\n",
       "        +0.017\n",
       "    </td>\n",
       "    <td style=\"padding: 0 0.5em 0 0.5em; text-align: left; border: none;\">\n",
       "        NumTradesOpeninLast12M\n",
       "    </td>\n",
       "    \n",
       "</tr>\n",
       "        \n",
       "            <tr style=\"background-color: hsl(120, 100.00%, 99.73%); border: none;\">\n",
       "    <td style=\"padding: 0 1em 0 0.5em; text-align: right; border: none;\">\n",
       "        +0.011\n",
       "    </td>\n",
       "    <td style=\"padding: 0 0.5em 0 0.5em; text-align: left; border: none;\">\n",
       "        PercentInstallTrades\n",
       "    </td>\n",
       "    \n",
       "</tr>\n",
       "        \n",
       "            <tr style=\"background-color: hsl(120, 100.00%, 99.73%); border: none;\">\n",
       "    <td style=\"padding: 0 1em 0 0.5em; text-align: right; border: none;\">\n",
       "        +0.011\n",
       "    </td>\n",
       "    <td style=\"padding: 0 0.5em 0 0.5em; text-align: left; border: none;\">\n",
       "        NetFractionRevolvingBurden\n",
       "    </td>\n",
       "    \n",
       "</tr>\n",
       "        \n",
       "            <tr style=\"background-color: hsl(120, 100.00%, 99.94%); border: none;\">\n",
       "    <td style=\"padding: 0 1em 0 0.5em; text-align: right; border: none;\">\n",
       "        +0.001\n",
       "    </td>\n",
       "    <td style=\"padding: 0 0.5em 0 0.5em; text-align: left; border: none;\">\n",
       "        NetFractionInstallBurden\n",
       "    </td>\n",
       "    \n",
       "</tr>\n",
       "        \n",
       "        \n",
       "\n",
       "        \n",
       "        \n",
       "            <tr style=\"background-color: hsl(0, 100.00%, 99.97%); border: none;\">\n",
       "    <td style=\"padding: 0 1em 0 0.5em; text-align: right; border: none;\">\n",
       "        -0.000\n",
       "    </td>\n",
       "    <td style=\"padding: 0 0.5em 0 0.5em; text-align: left; border: none;\">\n",
       "        MSinceOldestTradeOpen\n",
       "    </td>\n",
       "    \n",
       "</tr>\n",
       "        \n",
       "            <tr style=\"background-color: hsl(0, 100.00%, 99.96%); border: none;\">\n",
       "    <td style=\"padding: 0 1em 0 0.5em; text-align: right; border: none;\">\n",
       "        -0.001\n",
       "    </td>\n",
       "    <td style=\"padding: 0 0.5em 0 0.5em; text-align: left; border: none;\">\n",
       "        NumTotalTrades\n",
       "    </td>\n",
       "    \n",
       "</tr>\n",
       "        \n",
       "            <tr style=\"background-color: hsl(0, 100.00%, 99.94%); border: none;\">\n",
       "    <td style=\"padding: 0 1em 0 0.5em; text-align: right; border: none;\">\n",
       "        -0.001\n",
       "    </td>\n",
       "    <td style=\"padding: 0 0.5em 0 0.5em; text-align: left; border: none;\">\n",
       "        PercentTradesWBalance\n",
       "    </td>\n",
       "    \n",
       "</tr>\n",
       "        \n",
       "            <tr style=\"background-color: hsl(0, 100.00%, 99.81%); border: none;\">\n",
       "    <td style=\"padding: 0 1em 0 0.5em; text-align: right; border: none;\">\n",
       "        -0.007\n",
       "    </td>\n",
       "    <td style=\"padding: 0 0.5em 0 0.5em; text-align: left; border: none;\">\n",
       "        AverageMInFile\n",
       "    </td>\n",
       "    \n",
       "</tr>\n",
       "        \n",
       "            <tr style=\"background-color: hsl(0, 100.00%, 99.67%); border: none;\">\n",
       "    <td style=\"padding: 0 1em 0 0.5em; text-align: right; border: none;\">\n",
       "        -0.016\n",
       "    </td>\n",
       "    <td style=\"padding: 0 0.5em 0 0.5em; text-align: left; border: none;\">\n",
       "        MaxDelqEver\n",
       "    </td>\n",
       "    \n",
       "</tr>\n",
       "        \n",
       "            <tr style=\"background-color: hsl(0, 100.00%, 99.61%); border: none;\">\n",
       "    <td style=\"padding: 0 1em 0 0.5em; text-align: right; border: none;\">\n",
       "        -0.019\n",
       "    </td>\n",
       "    <td style=\"padding: 0 0.5em 0 0.5em; text-align: left; border: none;\">\n",
       "        PercentTradesNeverDelq\n",
       "    </td>\n",
       "    \n",
       "</tr>\n",
       "        \n",
       "            <tr style=\"background-color: hsl(0, 100.00%, 99.56%); border: none;\">\n",
       "    <td style=\"padding: 0 1em 0 0.5em; text-align: right; border: none;\">\n",
       "        -0.023\n",
       "    </td>\n",
       "    <td style=\"padding: 0 0.5em 0 0.5em; text-align: left; border: none;\">\n",
       "        NumSatisfactoryTrades\n",
       "    </td>\n",
       "    \n",
       "</tr>\n",
       "        \n",
       "            <tr style=\"background-color: hsl(0, 100.00%, 99.44%); border: none;\">\n",
       "    <td style=\"padding: 0 1em 0 0.5em; text-align: right; border: none;\">\n",
       "        -0.033\n",
       "    </td>\n",
       "    <td style=\"padding: 0 0.5em 0 0.5em; text-align: left; border: none;\">\n",
       "        NumInstallTradesWBalance\n",
       "    </td>\n",
       "    \n",
       "</tr>\n",
       "        \n",
       "            <tr style=\"background-color: hsl(0, 100.00%, 99.38%); border: none;\">\n",
       "    <td style=\"padding: 0 1em 0 0.5em; text-align: right; border: none;\">\n",
       "        -0.038\n",
       "    </td>\n",
       "    <td style=\"padding: 0 0.5em 0 0.5em; text-align: left; border: none;\">\n",
       "        ExternalRiskEstimate\n",
       "    </td>\n",
       "    \n",
       "</tr>\n",
       "        \n",
       "            <tr style=\"background-color: hsl(0, 100.00%, 99.24%); border: none;\">\n",
       "    <td style=\"padding: 0 1em 0 0.5em; text-align: right; border: none;\">\n",
       "        -0.050\n",
       "    </td>\n",
       "    <td style=\"padding: 0 0.5em 0 0.5em; text-align: left; border: none;\">\n",
       "        MSinceMostRecentInqexcl7days\n",
       "    </td>\n",
       "    \n",
       "</tr>\n",
       "        \n",
       "            <tr style=\"background-color: hsl(0, 100.00%, 98.61%); border: none;\">\n",
       "    <td style=\"padding: 0 1em 0 0.5em; text-align: right; border: none;\">\n",
       "        -0.120\n",
       "    </td>\n",
       "    <td style=\"padding: 0 0.5em 0 0.5em; text-align: left; border: none;\">\n",
       "        MaxDelq2PublicRecLast12M\n",
       "    </td>\n",
       "    \n",
       "</tr>\n",
       "        \n",
       "\n",
       "        </tbody>\n",
       "    </table>\n",
       "\n",
       "            \n",
       "        \n",
       "\n",
       "        \n",
       "\n",
       "\n",
       "\n",
       "    \n",
       "\n",
       "    \n",
       "\n",
       "    \n",
       "\n",
       "    \n",
       "\n",
       "\n",
       "    \n",
       "\n",
       "    \n",
       "\n",
       "    \n",
       "\n",
       "    \n",
       "\n",
       "    \n",
       "\n",
       "    \n",
       "\n",
       "\n",
       "    \n",
       "\n",
       "    \n",
       "\n",
       "    \n",
       "\n",
       "    \n",
       "\n",
       "    \n",
       "\n",
       "    \n",
       "\n",
       "\n",
       "\n"
      ],
      "text/plain": [
       "<IPython.core.display.HTML object>"
      ]
     },
     "execution_count": 39,
     "metadata": {},
     "output_type": "execute_result"
    }
   ],
   "source": [
    "import eli5\n",
    "eli5.show_weights(lr_model.named_steps[\"model\"], feature_names=list(X.columns),top=100)"
   ]
  },
  {
   "cell_type": "code",
   "execution_count": 47,
   "metadata": {},
   "outputs": [
    {
     "data": {
      "text/html": [
       "\n",
       "    <style>\n",
       "    table.eli5-weights tr:hover {\n",
       "        filter: brightness(85%);\n",
       "    }\n",
       "</style>\n",
       "\n",
       "\n",
       "\n",
       "    \n",
       "\n",
       "    \n",
       "\n",
       "    \n",
       "\n",
       "    \n",
       "\n",
       "    \n",
       "\n",
       "    \n",
       "\n",
       "\n",
       "    \n",
       "\n",
       "    \n",
       "\n",
       "    \n",
       "\n",
       "    \n",
       "        \n",
       "\n",
       "    \n",
       "\n",
       "        \n",
       "            \n",
       "                \n",
       "                \n",
       "    \n",
       "        <p style=\"margin-bottom: 0.5em; margin-top: 0em\">\n",
       "            <b>\n",
       "    \n",
       "        y=0\n",
       "    \n",
       "</b>\n",
       "\n",
       "    \n",
       "    (probability <b>0.954</b>, score <b>-3.025</b>)\n",
       "\n",
       "top features\n",
       "        </p>\n",
       "    \n",
       "    <table class=\"eli5-weights\"\n",
       "           style=\"border-collapse: collapse; border: none; margin-top: 0em; table-layout: auto; margin-bottom: 2em;\">\n",
       "        <thead>\n",
       "        <tr style=\"border: none;\">\n",
       "            \n",
       "                <th style=\"padding: 0 1em 0 0.5em; text-align: right; border: none;\" title=\"Feature contribution already accounts for the feature value (for linear models, contribution = weight * feature value), and the sum of feature contributions is equal to the score or, for some classifiers, to the probability. Feature values are shown if &quot;show_feature_values&quot; is True.\">\n",
       "                    Contribution<sup>?</sup>\n",
       "                </th>\n",
       "            \n",
       "            <th style=\"padding: 0 0.5em 0 0.5em; text-align: left; border: none;\">Feature</th>\n",
       "            \n",
       "                <th style=\"padding: 0 0.5em 0 1em; text-align: right; border: none;\">Value</th>\n",
       "            \n",
       "        </tr>\n",
       "        </thead>\n",
       "        <tbody>\n",
       "        \n",
       "            <tr style=\"background-color: hsl(120, 100.00%, 85.61%); border: none;\">\n",
       "    <td style=\"padding: 0 1em 0 0.5em; text-align: right; border: none;\">\n",
       "        +3.384\n",
       "    </td>\n",
       "    <td style=\"padding: 0 0.5em 0 0.5em; text-align: left; border: none;\">\n",
       "        ExternalRiskEstimate\n",
       "    </td>\n",
       "    \n",
       "        <td style=\"padding: 0 0.5em 0 1em; text-align: right; border: none;\">\n",
       "            90.000\n",
       "        </td>\n",
       "    \n",
       "</tr>\n",
       "        \n",
       "            <tr style=\"background-color: hsl(120, 100.00%, 90.30%); border: none;\">\n",
       "    <td style=\"padding: 0 1em 0 0.5em; text-align: right; border: none;\">\n",
       "        +1.926\n",
       "    </td>\n",
       "    <td style=\"padding: 0 0.5em 0 0.5em; text-align: left; border: none;\">\n",
       "        PercentTradesNeverDelq\n",
       "    </td>\n",
       "    \n",
       "        <td style=\"padding: 0 0.5em 0 1em; text-align: right; border: none;\">\n",
       "            100.000\n",
       "        </td>\n",
       "    \n",
       "</tr>\n",
       "        \n",
       "            <tr style=\"background-color: hsl(120, 100.00%, 93.42%); border: none;\">\n",
       "    <td style=\"padding: 0 1em 0 0.5em; text-align: right; border: none;\">\n",
       "        +1.107\n",
       "    </td>\n",
       "    <td style=\"padding: 0 0.5em 0 0.5em; text-align: left; border: none;\">\n",
       "        MSinceMostRecentInqexcl7days\n",
       "    </td>\n",
       "    \n",
       "        <td style=\"padding: 0 0.5em 0 1em; text-align: right; border: none;\">\n",
       "            22.000\n",
       "        </td>\n",
       "    \n",
       "</tr>\n",
       "        \n",
       "            <tr style=\"background-color: hsl(120, 100.00%, 94.53%); border: none;\">\n",
       "    <td style=\"padding: 0 1em 0 0.5em; text-align: right; border: none;\">\n",
       "        +0.850\n",
       "    </td>\n",
       "    <td style=\"padding: 0 0.5em 0 0.5em; text-align: left; border: none;\">\n",
       "        AverageMInFile\n",
       "    </td>\n",
       "    \n",
       "        <td style=\"padding: 0 0.5em 0 1em; text-align: right; border: none;\">\n",
       "            118.000\n",
       "        </td>\n",
       "    \n",
       "</tr>\n",
       "        \n",
       "            <tr style=\"background-color: hsl(120, 100.00%, 94.57%); border: none;\">\n",
       "    <td style=\"padding: 0 1em 0 0.5em; text-align: right; border: none;\">\n",
       "        +0.841\n",
       "    </td>\n",
       "    <td style=\"padding: 0 0.5em 0 0.5em; text-align: left; border: none;\">\n",
       "        MaxDelq2PublicRecLast12M\n",
       "    </td>\n",
       "    \n",
       "        <td style=\"padding: 0 0.5em 0 1em; text-align: right; border: none;\">\n",
       "            7.000\n",
       "        </td>\n",
       "    \n",
       "</tr>\n",
       "        \n",
       "            <tr style=\"background-color: hsl(120, 100.00%, 95.80%); border: none;\">\n",
       "    <td style=\"padding: 0 1em 0 0.5em; text-align: right; border: none;\">\n",
       "        +0.582\n",
       "    </td>\n",
       "    <td style=\"padding: 0 0.5em 0 0.5em; text-align: left; border: none;\">\n",
       "        NumSatisfactoryTrades\n",
       "    </td>\n",
       "    \n",
       "        <td style=\"padding: 0 0.5em 0 1em; text-align: right; border: none;\">\n",
       "            25.000\n",
       "        </td>\n",
       "    \n",
       "</tr>\n",
       "        \n",
       "            <tr style=\"background-color: hsl(120, 100.00%, 98.34%); border: none;\">\n",
       "    <td style=\"padding: 0 1em 0 0.5em; text-align: right; border: none;\">\n",
       "        +0.154\n",
       "    </td>\n",
       "    <td style=\"padding: 0 0.5em 0 0.5em; text-align: left; border: none;\">\n",
       "        MSinceOldestTradeOpen\n",
       "    </td>\n",
       "    \n",
       "        <td style=\"padding: 0 0.5em 0 1em; text-align: right; border: none;\">\n",
       "            313.000\n",
       "        </td>\n",
       "    \n",
       "</tr>\n",
       "        \n",
       "            <tr style=\"background-color: hsl(120, 100.00%, 98.57%); border: none;\">\n",
       "    <td style=\"padding: 0 1em 0 0.5em; text-align: right; border: none;\">\n",
       "        +0.125\n",
       "    </td>\n",
       "    <td style=\"padding: 0 0.5em 0 0.5em; text-align: left; border: none;\">\n",
       "        MaxDelqEver\n",
       "    </td>\n",
       "    \n",
       "        <td style=\"padding: 0 0.5em 0 1em; text-align: right; border: none;\">\n",
       "            8.000\n",
       "        </td>\n",
       "    \n",
       "</tr>\n",
       "        \n",
       "            <tr style=\"background-color: hsl(120, 100.00%, 98.79%); border: none;\">\n",
       "    <td style=\"padding: 0 1em 0 0.5em; text-align: right; border: none;\">\n",
       "        +0.098\n",
       "    </td>\n",
       "    <td style=\"padding: 0 0.5em 0 0.5em; text-align: left; border: none;\">\n",
       "        NumInstallTradesWBalance\n",
       "    </td>\n",
       "    \n",
       "        <td style=\"padding: 0 0.5em 0 1em; text-align: right; border: none;\">\n",
       "            3.000\n",
       "        </td>\n",
       "    \n",
       "</tr>\n",
       "        \n",
       "            <tr style=\"background-color: hsl(120, 100.00%, 99.06%); border: none;\">\n",
       "    <td style=\"padding: 0 1em 0 0.5em; text-align: right; border: none;\">\n",
       "        +0.069\n",
       "    </td>\n",
       "    <td style=\"padding: 0 0.5em 0 0.5em; text-align: left; border: none;\">\n",
       "        PercentTradesWBalance\n",
       "    </td>\n",
       "    \n",
       "        <td style=\"padding: 0 0.5em 0 1em; text-align: right; border: none;\">\n",
       "            50.000\n",
       "        </td>\n",
       "    \n",
       "</tr>\n",
       "        \n",
       "            <tr style=\"background-color: hsl(120, 100.00%, 99.58%); border: none;\">\n",
       "    <td style=\"padding: 0 1em 0 0.5em; text-align: right; border: none;\">\n",
       "        +0.022\n",
       "    </td>\n",
       "    <td style=\"padding: 0 0.5em 0 0.5em; text-align: left; border: none;\">\n",
       "        NumTotalTrades\n",
       "    </td>\n",
       "    \n",
       "        <td style=\"padding: 0 0.5em 0 1em; text-align: right; border: none;\">\n",
       "            27.000\n",
       "        </td>\n",
       "    \n",
       "</tr>\n",
       "        \n",
       "        \n",
       "\n",
       "        \n",
       "        \n",
       "            <tr style=\"background-color: hsl(0, 100.00%, 99.65%); border: none;\">\n",
       "    <td style=\"padding: 0 1em 0 0.5em; text-align: right; border: none;\">\n",
       "        -0.017\n",
       "    </td>\n",
       "    <td style=\"padding: 0 0.5em 0 0.5em; text-align: left; border: none;\">\n",
       "        NumTradesOpeninLast12M\n",
       "    </td>\n",
       "    \n",
       "        <td style=\"padding: 0 0.5em 0 1em; text-align: right; border: none;\">\n",
       "            1.000\n",
       "        </td>\n",
       "    \n",
       "</tr>\n",
       "        \n",
       "            <tr style=\"background-color: hsl(0, 100.00%, 99.57%); border: none;\">\n",
       "    <td style=\"padding: 0 1em 0 0.5em; text-align: right; border: none;\">\n",
       "        -0.023\n",
       "    </td>\n",
       "    <td style=\"padding: 0 0.5em 0 0.5em; text-align: left; border: none;\">\n",
       "        NetFractionRevolvingBurden\n",
       "    </td>\n",
       "    \n",
       "        <td style=\"padding: 0 0.5em 0 1em; text-align: right; border: none;\">\n",
       "            2.000\n",
       "        </td>\n",
       "    \n",
       "</tr>\n",
       "        \n",
       "            <tr style=\"background-color: hsl(0, 100.00%, 98.82%); border: none;\">\n",
       "    <td style=\"padding: 0 1em 0 0.5em; text-align: right; border: none;\">\n",
       "        -0.095\n",
       "    </td>\n",
       "    <td style=\"padding: 0 0.5em 0 0.5em; text-align: left; border: none;\">\n",
       "        NetFractionInstallBurden\n",
       "    </td>\n",
       "    \n",
       "        <td style=\"padding: 0 0.5em 0 1em; text-align: right; border: none;\">\n",
       "            69.000\n",
       "        </td>\n",
       "    \n",
       "</tr>\n",
       "        \n",
       "            <tr style=\"background-color: hsl(0, 100.00%, 98.71%); border: none;\">\n",
       "    <td style=\"padding: 0 1em 0 0.5em; text-align: right; border: none;\">\n",
       "        -0.108\n",
       "    </td>\n",
       "    <td style=\"padding: 0 0.5em 0 0.5em; text-align: left; border: none;\">\n",
       "        NumRevolvingTradesWBalance\n",
       "    </td>\n",
       "    \n",
       "        <td style=\"padding: 0 0.5em 0 1em; text-align: right; border: none;\">\n",
       "            3.000\n",
       "        </td>\n",
       "    \n",
       "</tr>\n",
       "        \n",
       "            <tr style=\"background-color: hsl(0, 100.00%, 96.35%); border: none;\">\n",
       "    <td style=\"padding: 0 1em 0 0.5em; text-align: right; border: none;\">\n",
       "        -0.477\n",
       "    </td>\n",
       "    <td style=\"padding: 0 0.5em 0 0.5em; text-align: left; border: none;\">\n",
       "        PercentInstallTrades\n",
       "    </td>\n",
       "    \n",
       "        <td style=\"padding: 0 0.5em 0 1em; text-align: right; border: none;\">\n",
       "            42.000\n",
       "        </td>\n",
       "    \n",
       "</tr>\n",
       "        \n",
       "            <tr style=\"background-color: hsl(0, 100.00%, 80.00%); border: none;\">\n",
       "    <td style=\"padding: 0 1em 0 0.5em; text-align: right; border: none;\">\n",
       "        -5.414\n",
       "    </td>\n",
       "    <td style=\"padding: 0 0.5em 0 0.5em; text-align: left; border: none;\">\n",
       "        &lt;BIAS&gt;\n",
       "    </td>\n",
       "    \n",
       "        <td style=\"padding: 0 0.5em 0 1em; text-align: right; border: none;\">\n",
       "            1.000\n",
       "        </td>\n",
       "    \n",
       "</tr>\n",
       "        \n",
       "\n",
       "        </tbody>\n",
       "    </table>\n",
       "\n",
       "            \n",
       "        \n",
       "\n",
       "        \n",
       "\n",
       "\n",
       "\n",
       "    \n",
       "\n",
       "    \n",
       "\n",
       "    \n",
       "\n",
       "    \n",
       "\n",
       "\n",
       "    \n",
       "\n",
       "    \n",
       "\n",
       "    \n",
       "\n",
       "    \n",
       "\n",
       "    \n",
       "\n",
       "    \n",
       "\n",
       "\n",
       "    \n",
       "\n",
       "    \n",
       "\n",
       "    \n",
       "\n",
       "    \n",
       "\n",
       "    \n",
       "\n",
       "    \n",
       "\n",
       "\n",
       "\n"
      ],
      "text/plain": [
       "<IPython.core.display.HTML object>"
      ]
     },
     "execution_count": 47,
     "metadata": {},
     "output_type": "execute_result"
    }
   ],
   "source": [
    "eli5.show_prediction(lr_model.named_steps[\"model\"], X_test.iloc[0],feature_names=list(X_test.columns), show_feature_values=True)"
   ]
  },
  {
   "cell_type": "code",
   "execution_count": 40,
   "metadata": {},
   "outputs": [
    {
     "data": {
      "image/png": "[encoded data removed]",
      "text/plain": [
       "<Figure size 432x288 with 1 Axes>"
      ]
     },
     "metadata": {
      "needs_background": "light"
     },
     "output_type": "display_data"
    }
   ],
   "source": [
    "\n",
    "pyplot.bar([x for x in range(len(lr_model.named_steps[\"model\"].coef_[0]))], lr_model.named_steps[\"model\"].coef_[0])\n",
    "pyplot.show()"
   ]
  },
  {
   "cell_type": "code",
   "execution_count": 41,
   "metadata": {},
   "outputs": [
    {
     "name": "stdout",
     "output_type": "stream",
     "text": [
      "{'model__max_depth': 3, 'model__min_samples_split': 2}\n",
      "0.7141202027516294\n",
      "              precision    recall  f1-score   support\n",
      "\n",
      "           0       0.70      0.73      0.71      1420\n",
      "           1       0.74      0.71      0.72      1540\n",
      "\n",
      "    accuracy                           0.72      2960\n",
      "   macro avg       0.72      0.72      0.72      2960\n",
      "weighted avg       0.72      0.72      0.72      2960\n",
      "\n"
     ]
    }
   ],
   "source": [
    "dt_model = Pipeline([\n",
    "                     (\"model\", DecisionTreeClassifier(class_weight=\"balanced\"))])\n",
    "gs = GridSearchCV(dt_model, {\"model__max_depth\": [3, 5, 7], \n",
    "                             \"model__min_samples_split\": [2, 5]}, \n",
    "                  n_jobs=-1, cv=5, scoring=\"accuracy\")\n",
    "gs.fit(X_train, y_train)\n",
    "print(gs.best_params_)\n",
    "print(gs.best_score_)\n",
    "dt_model.set_params(**gs.best_params_)\n",
    "dt_model.fit(X_train, y_train)\n",
    "y_pred = dt_model.predict(X_test)\n",
    "accuracy_score(y_test, y_pred)\n",
    "print(classification_report(y_test, y_pred))"
   ]
  }
 ],
 "metadata": {
  "kernelspec": {
   "display_name": "Python 3",
   "language": "python",
   "name": "python3"
  },
  "language_info": {
   "codemirror_mode": {
    "name": "ipython",
    "version": 3
   },
   "file_extension": ".py",
   "mimetype": "text/x-python",
   "name": "python",
   "nbconvert_exporter": "python",
   "pygments_lexer": "ipython3",
   "version": "3.7.6"
  }
 },
 "nbformat": 4,
 "nbformat_minor": 4
}
